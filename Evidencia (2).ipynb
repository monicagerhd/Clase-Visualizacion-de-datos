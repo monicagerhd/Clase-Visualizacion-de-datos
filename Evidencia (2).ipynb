{
 "cells": [
  {
   "cell_type": "code",
   "execution_count": 1,
   "id": "8474d8e8",
   "metadata": {},
   "outputs": [],
   "source": [
    "import pandas as pd\n",
    "import seaborn as sns\n",
    "import matplotlib.pyplot as plt\n",
    "import numpy as np\n",
    "import statsmodels.api as sm"
   ]
  },
  {
   "cell_type": "code",
   "execution_count": 2,
   "id": "6604b029",
   "metadata": {
    "scrolled": true
   },
   "outputs": [
    {
     "data": {
      "text/html": [
       "<div>\n",
       "<style scoped>\n",
       "    .dataframe tbody tr th:only-of-type {\n",
       "        vertical-align: middle;\n",
       "    }\n",
       "\n",
       "    .dataframe tbody tr th {\n",
       "        vertical-align: top;\n",
       "    }\n",
       "\n",
       "    .dataframe thead th {\n",
       "        text-align: right;\n",
       "    }\n",
       "</style>\n",
       "<table border=\"1\" class=\"dataframe\">\n",
       "  <thead>\n",
       "    <tr style=\"text-align: right;\">\n",
       "      <th></th>\n",
       "      <th>total_bill</th>\n",
       "      <th>tip</th>\n",
       "      <th>sex</th>\n",
       "      <th>smoker</th>\n",
       "      <th>day</th>\n",
       "      <th>time</th>\n",
       "      <th>size</th>\n",
       "    </tr>\n",
       "  </thead>\n",
       "  <tbody>\n",
       "    <tr>\n",
       "      <th>0</th>\n",
       "      <td>16.99</td>\n",
       "      <td>1.01</td>\n",
       "      <td>Female</td>\n",
       "      <td>No</td>\n",
       "      <td>Sun</td>\n",
       "      <td>Dinner</td>\n",
       "      <td>2</td>\n",
       "    </tr>\n",
       "    <tr>\n",
       "      <th>1</th>\n",
       "      <td>10.34</td>\n",
       "      <td>1.66</td>\n",
       "      <td>Male</td>\n",
       "      <td>No</td>\n",
       "      <td>Sun</td>\n",
       "      <td>Dinner</td>\n",
       "      <td>3</td>\n",
       "    </tr>\n",
       "  </tbody>\n",
       "</table>\n",
       "</div>"
      ],
      "text/plain": [
       "   total_bill   tip     sex smoker  day    time  size\n",
       "0       16.99  1.01  Female     No  Sun  Dinner     2\n",
       "1       10.34  1.66    Male     No  Sun  Dinner     3"
      ]
     },
     "execution_count": 2,
     "metadata": {},
     "output_type": "execute_result"
    }
   ],
   "source": [
    "df=pd.read_csv('datasets/tips.csv')\n",
    "df.head(2)"
   ]
  },
  {
   "cell_type": "markdown",
   "id": "71279e0c",
   "metadata": {},
   "source": [
    "¿Se puede saber la propina que se va a dejar con alguna de las variables de total_bill, sex, day o time ? \n"
   ]
  },
  {
   "cell_type": "code",
   "execution_count": 3,
   "id": "e674779b",
   "metadata": {},
   "outputs": [],
   "source": [
    "#Primero se reemplazan las variables de sex, time y day por números para poder hacer la regresión \n",
    "\n",
    "df['sex']=df.sex.replace({'Male':1, 'Female':2})\n",
    "df['time']=df.time.replace({'Lunch':1,'Dinner' :2})\n",
    "df['day']=df.day.replace({'Mon':1,'Thur':2, 'Fri': 3 ,'Sat':4,'Sun': 5})"
   ]
  },
  {
   "cell_type": "code",
   "execution_count": 4,
   "id": "a0a1cd3a",
   "metadata": {},
   "outputs": [],
   "source": [
    "#Primero se indican las variables a considerar \n",
    "vars= [ 'total_bill', 'tip', 'sex', 'time','day']"
   ]
  },
  {
   "cell_type": "code",
   "execution_count": 5,
   "id": "1f9b2c73",
   "metadata": {},
   "outputs": [
    {
     "data": {
      "text/html": [
       "<div>\n",
       "<style scoped>\n",
       "    .dataframe tbody tr th:only-of-type {\n",
       "        vertical-align: middle;\n",
       "    }\n",
       "\n",
       "    .dataframe tbody tr th {\n",
       "        vertical-align: top;\n",
       "    }\n",
       "\n",
       "    .dataframe thead th {\n",
       "        text-align: right;\n",
       "    }\n",
       "</style>\n",
       "<table border=\"1\" class=\"dataframe\">\n",
       "  <thead>\n",
       "    <tr style=\"text-align: right;\">\n",
       "      <th></th>\n",
       "      <th>total_bill</th>\n",
       "      <th>tip</th>\n",
       "      <th>sex</th>\n",
       "      <th>time</th>\n",
       "      <th>day</th>\n",
       "    </tr>\n",
       "  </thead>\n",
       "  <tbody>\n",
       "    <tr>\n",
       "      <th>0</th>\n",
       "      <td>16.99</td>\n",
       "      <td>1.01</td>\n",
       "      <td>2</td>\n",
       "      <td>2</td>\n",
       "      <td>5</td>\n",
       "    </tr>\n",
       "    <tr>\n",
       "      <th>1</th>\n",
       "      <td>10.34</td>\n",
       "      <td>1.66</td>\n",
       "      <td>1</td>\n",
       "      <td>2</td>\n",
       "      <td>5</td>\n",
       "    </tr>\n",
       "    <tr>\n",
       "      <th>2</th>\n",
       "      <td>21.01</td>\n",
       "      <td>3.50</td>\n",
       "      <td>1</td>\n",
       "      <td>2</td>\n",
       "      <td>5</td>\n",
       "    </tr>\n",
       "    <tr>\n",
       "      <th>3</th>\n",
       "      <td>23.68</td>\n",
       "      <td>3.31</td>\n",
       "      <td>1</td>\n",
       "      <td>2</td>\n",
       "      <td>5</td>\n",
       "    </tr>\n",
       "    <tr>\n",
       "      <th>4</th>\n",
       "      <td>24.59</td>\n",
       "      <td>3.61</td>\n",
       "      <td>2</td>\n",
       "      <td>2</td>\n",
       "      <td>5</td>\n",
       "    </tr>\n",
       "    <tr>\n",
       "      <th>...</th>\n",
       "      <td>...</td>\n",
       "      <td>...</td>\n",
       "      <td>...</td>\n",
       "      <td>...</td>\n",
       "      <td>...</td>\n",
       "    </tr>\n",
       "    <tr>\n",
       "      <th>239</th>\n",
       "      <td>29.03</td>\n",
       "      <td>5.92</td>\n",
       "      <td>1</td>\n",
       "      <td>2</td>\n",
       "      <td>4</td>\n",
       "    </tr>\n",
       "    <tr>\n",
       "      <th>240</th>\n",
       "      <td>27.18</td>\n",
       "      <td>2.00</td>\n",
       "      <td>2</td>\n",
       "      <td>2</td>\n",
       "      <td>4</td>\n",
       "    </tr>\n",
       "    <tr>\n",
       "      <th>241</th>\n",
       "      <td>22.67</td>\n",
       "      <td>2.00</td>\n",
       "      <td>1</td>\n",
       "      <td>2</td>\n",
       "      <td>4</td>\n",
       "    </tr>\n",
       "    <tr>\n",
       "      <th>242</th>\n",
       "      <td>17.82</td>\n",
       "      <td>1.75</td>\n",
       "      <td>1</td>\n",
       "      <td>2</td>\n",
       "      <td>4</td>\n",
       "    </tr>\n",
       "    <tr>\n",
       "      <th>243</th>\n",
       "      <td>18.78</td>\n",
       "      <td>3.00</td>\n",
       "      <td>2</td>\n",
       "      <td>2</td>\n",
       "      <td>2</td>\n",
       "    </tr>\n",
       "  </tbody>\n",
       "</table>\n",
       "<p>244 rows × 5 columns</p>\n",
       "</div>"
      ],
      "text/plain": [
       "     total_bill   tip  sex  time  day\n",
       "0         16.99  1.01    2     2    5\n",
       "1         10.34  1.66    1     2    5\n",
       "2         21.01  3.50    1     2    5\n",
       "3         23.68  3.31    1     2    5\n",
       "4         24.59  3.61    2     2    5\n",
       "..          ...   ...  ...   ...  ...\n",
       "239       29.03  5.92    1     2    4\n",
       "240       27.18  2.00    2     2    4\n",
       "241       22.67  2.00    1     2    4\n",
       "242       17.82  1.75    1     2    4\n",
       "243       18.78  3.00    2     2    2\n",
       "\n",
       "[244 rows x 5 columns]"
      ]
     },
     "execution_count": 5,
     "metadata": {},
     "output_type": "execute_result"
    }
   ],
   "source": [
    "#Se hace la limpieza de variables y se declara el dataframe a considerar\n",
    "df= df[vars].dropna()\n",
    "df"
   ]
  },
  {
   "cell_type": "markdown",
   "id": "3efb7939",
   "metadata": {},
   "source": [
    "Para saber que variables pueden tener algun impacto en los tips y utilizarlas en la regresión lineal se debe llevar a cabo un estudio de correlación entre variables. "
   ]
  },
  {
   "cell_type": "code",
   "execution_count": 6,
   "id": "d8658e2f",
   "metadata": {
    "scrolled": false
   },
   "outputs": [
    {
     "data": {
      "text/html": [
       "<div>\n",
       "<style scoped>\n",
       "    .dataframe tbody tr th:only-of-type {\n",
       "        vertical-align: middle;\n",
       "    }\n",
       "\n",
       "    .dataframe tbody tr th {\n",
       "        vertical-align: top;\n",
       "    }\n",
       "\n",
       "    .dataframe thead th {\n",
       "        text-align: right;\n",
       "    }\n",
       "</style>\n",
       "<table border=\"1\" class=\"dataframe\">\n",
       "  <thead>\n",
       "    <tr style=\"text-align: right;\">\n",
       "      <th></th>\n",
       "      <th>tip</th>\n",
       "      <th>total_bill</th>\n",
       "      <th>sex</th>\n",
       "      <th>time</th>\n",
       "      <th>day</th>\n",
       "    </tr>\n",
       "  </thead>\n",
       "  <tbody>\n",
       "    <tr>\n",
       "      <th>tip</th>\n",
       "      <td>1.000000</td>\n",
       "      <td>0.675734</td>\n",
       "      <td>-0.088862</td>\n",
       "      <td>0.121629</td>\n",
       "      <td>0.135499</td>\n",
       "    </tr>\n",
       "    <tr>\n",
       "      <th>total_bill</th>\n",
       "      <td>0.675734</td>\n",
       "      <td>1.000000</td>\n",
       "      <td>-0.144877</td>\n",
       "      <td>0.183118</td>\n",
       "      <td>0.173693</td>\n",
       "    </tr>\n",
       "    <tr>\n",
       "      <th>sex</th>\n",
       "      <td>-0.088862</td>\n",
       "      <td>-0.144877</td>\n",
       "      <td>1.000000</td>\n",
       "      <td>-0.205231</td>\n",
       "      <td>-0.230791</td>\n",
       "    </tr>\n",
       "    <tr>\n",
       "      <th>time</th>\n",
       "      <td>0.121629</td>\n",
       "      <td>0.183118</td>\n",
       "      <td>-0.205231</td>\n",
       "      <td>1.000000</td>\n",
       "      <td>0.874366</td>\n",
       "    </tr>\n",
       "    <tr>\n",
       "      <th>day</th>\n",
       "      <td>0.135499</td>\n",
       "      <td>0.173693</td>\n",
       "      <td>-0.230791</td>\n",
       "      <td>0.874366</td>\n",
       "      <td>1.000000</td>\n",
       "    </tr>\n",
       "  </tbody>\n",
       "</table>\n",
       "</div>"
      ],
      "text/plain": [
       "                 tip  total_bill       sex      time       day\n",
       "tip         1.000000    0.675734 -0.088862  0.121629  0.135499\n",
       "total_bill  0.675734    1.000000 -0.144877  0.183118  0.173693\n",
       "sex        -0.088862   -0.144877  1.000000 -0.205231 -0.230791\n",
       "time        0.121629    0.183118 -0.205231  1.000000  0.874366\n",
       "day         0.135499    0.173693 -0.230791  0.874366  1.000000"
      ]
     },
     "execution_count": 6,
     "metadata": {},
     "output_type": "execute_result"
    }
   ],
   "source": [
    "cc=df[['tip','total_bill','sex','time','day']].corr()\n",
    "cc"
   ]
  },
  {
   "cell_type": "markdown",
   "id": "7a3bcab7",
   "metadata": {},
   "source": [
    "Se puede notar que todas las variables tienen una correlación pequeña con tip, la que tiene la correlación que se acerca más a 1 es total_bill, con una fuerza de correlación alta, por lo que es la variable que se va a considerar para hacer la recta de regresión. Para visualizar y entender mejor la correlación se realizará un diagrama de disperción.  "
   ]
  },
  {
   "cell_type": "code",
   "execution_count": 7,
   "id": "b4e4cf41",
   "metadata": {},
   "outputs": [
    {
     "data": {
      "image/png": "[encoded data removed]",
      "text/plain": [
       "<Figure size 720x720 with 1 Axes>"
      ]
     },
     "metadata": {
      "needs_background": "light"
     },
     "output_type": "display_data"
    }
   ],
   "source": [
    "total_bill = df['total_bill']\n",
    "tip = df['tip']\n",
    "\n",
    "plt.figure(figsize=(10,10))\n",
    "plt.subplot(2,2,1)\n",
    "plt.scatter(x=total_bill,\n",
    "            y=tip)\n",
    "plt.xlabel(\"total_bill\")\n",
    "plt.ylabel(\"tip\")\n",
    "plt.title(\"Diagrama de dispersión de total_bill vs. tip\")\n",
    "\n",
    "\n",
    "plt.show()"
   ]
  },
  {
   "cell_type": "markdown",
   "id": "037eda5c",
   "metadata": {},
   "source": [
    "Se puede notar que tiene una correlación positiva, pero si existen ciertos datos que se encuentran lejos de la recta de regresión, los cuales se pueden considerar como datos atípicos. \n",
    "Ya con con los datos necesarios se puede llevar a cabo la prueba\n",
    "La ecuación que se quiere realizar es la siguiente\n",
    "tip= b0+total_bill(b1)\n",
    "Solo se utiliza la variable total_bill porque es la que mostró correlación alta. \n"
   ]
  },
  {
   "cell_type": "code",
   "execution_count": 8,
   "id": "67b50c16",
   "metadata": {
    "scrolled": true
   },
   "outputs": [
    {
     "data": {
      "text/html": [
       "<table class=\"simpletable\">\n",
       "<caption>OLS Regression Results</caption>\n",
       "<tr>\n",
       "  <th>Dep. Variable:</th>           <td>tip</td>       <th>  R-squared:         </th> <td>   0.457</td>\n",
       "</tr>\n",
       "<tr>\n",
       "  <th>Model:</th>                   <td>OLS</td>       <th>  Adj. R-squared:    </th> <td>   0.454</td>\n",
       "</tr>\n",
       "<tr>\n",
       "  <th>Method:</th>             <td>Least Squares</td>  <th>  F-statistic:       </th> <td>   203.4</td>\n",
       "</tr>\n",
       "<tr>\n",
       "  <th>Date:</th>             <td>Thu, 09 Sep 2021</td> <th>  Prob (F-statistic):</th> <td>6.69e-34</td>\n",
       "</tr>\n",
       "<tr>\n",
       "  <th>Time:</th>                 <td>04:14:15</td>     <th>  Log-Likelihood:    </th> <td> -350.54</td>\n",
       "</tr>\n",
       "<tr>\n",
       "  <th>No. Observations:</th>      <td>   244</td>      <th>  AIC:               </th> <td>   705.1</td>\n",
       "</tr>\n",
       "<tr>\n",
       "  <th>Df Residuals:</th>          <td>   242</td>      <th>  BIC:               </th> <td>   712.1</td>\n",
       "</tr>\n",
       "<tr>\n",
       "  <th>Df Model:</th>              <td>     1</td>      <th>                     </th>     <td> </td>   \n",
       "</tr>\n",
       "<tr>\n",
       "  <th>Covariance Type:</th>      <td>nonrobust</td>    <th>                     </th>     <td> </td>   \n",
       "</tr>\n",
       "</table>\n",
       "<table class=\"simpletable\">\n",
       "<tr>\n",
       "       <td></td>         <th>coef</th>     <th>std err</th>      <th>t</th>      <th>P>|t|</th>  <th>[0.025</th>    <th>0.975]</th>  \n",
       "</tr>\n",
       "<tr>\n",
       "  <th>Intercept</th>  <td>    0.9203</td> <td>    0.160</td> <td>    5.761</td> <td> 0.000</td> <td>    0.606</td> <td>    1.235</td>\n",
       "</tr>\n",
       "<tr>\n",
       "  <th>total_bill</th> <td>    0.1050</td> <td>    0.007</td> <td>   14.260</td> <td> 0.000</td> <td>    0.091</td> <td>    0.120</td>\n",
       "</tr>\n",
       "</table>\n",
       "<table class=\"simpletable\">\n",
       "<tr>\n",
       "  <th>Omnibus:</th>       <td>20.185</td> <th>  Durbin-Watson:     </th> <td>   2.151</td>\n",
       "</tr>\n",
       "<tr>\n",
       "  <th>Prob(Omnibus):</th> <td> 0.000</td> <th>  Jarque-Bera (JB):  </th> <td>  37.750</td>\n",
       "</tr>\n",
       "<tr>\n",
       "  <th>Skew:</th>          <td> 0.443</td> <th>  Prob(JB):          </th> <td>6.35e-09</td>\n",
       "</tr>\n",
       "<tr>\n",
       "  <th>Kurtosis:</th>      <td> 4.711</td> <th>  Cond. No.          </th> <td>    53.0</td>\n",
       "</tr>\n",
       "</table><br/><br/>Warnings:<br/>[1] Standard Errors assume that the covariance matrix of the errors is correctly specified."
      ],
      "text/plain": [
       "<class 'statsmodels.iolib.summary.Summary'>\n",
       "\"\"\"\n",
       "                            OLS Regression Results                            \n",
       "==============================================================================\n",
       "Dep. Variable:                    tip   R-squared:                       0.457\n",
       "Model:                            OLS   Adj. R-squared:                  0.454\n",
       "Method:                 Least Squares   F-statistic:                     203.4\n",
       "Date:                Thu, 09 Sep 2021   Prob (F-statistic):           6.69e-34\n",
       "Time:                        04:14:15   Log-Likelihood:                -350.54\n",
       "No. Observations:                 244   AIC:                             705.1\n",
       "Df Residuals:                     242   BIC:                             712.1\n",
       "Df Model:                           1                                         \n",
       "Covariance Type:            nonrobust                                         \n",
       "==============================================================================\n",
       "                 coef    std err          t      P>|t|      [0.025      0.975]\n",
       "------------------------------------------------------------------------------\n",
       "Intercept      0.9203      0.160      5.761      0.000       0.606       1.235\n",
       "total_bill     0.1050      0.007     14.260      0.000       0.091       0.120\n",
       "==============================================================================\n",
       "Omnibus:                       20.185   Durbin-Watson:                   2.151\n",
       "Prob(Omnibus):                  0.000   Jarque-Bera (JB):               37.750\n",
       "Skew:                           0.443   Prob(JB):                     6.35e-09\n",
       "Kurtosis:                       4.711   Cond. No.                         53.0\n",
       "==============================================================================\n",
       "\n",
       "Warnings:\n",
       "[1] Standard Errors assume that the covariance matrix of the errors is correctly specified.\n",
       "\"\"\""
      ]
     },
     "execution_count": 8,
     "metadata": {},
     "output_type": "execute_result"
    }
   ],
   "source": [
    "import statsmodels.api as sm\n",
    "model= sm.OLS.from_formula('tip~total_bill', \n",
    "                          data=df)\n",
    "result=model.fit()\n",
    "result.summary()\n"
   ]
  },
  {
   "cell_type": "markdown",
   "id": "ee03593b",
   "metadata": {},
   "source": [
    "Ya con esto se puede realizar la recta de regresión lineal para hacer las predicciones. \n",
    "Es reultado es: tips= 0.9203+total_bill(0.1050) \n",
    "No obstante se puede observar que la r cuadrada de 0.457, lo cual significa que la ecuación no es confiable, para qu elo sea debe tener un valor arriba de 0.7. \n",
    "A pesar de esto se llevará a cabo el estudio de residuos para conocer mejor el modelo. "
   ]
  },
  {
   "cell_type": "code",
   "execution_count": 9,
   "id": "8925c892",
   "metadata": {},
   "outputs": [
    {
     "name": "stdout",
     "output_type": "stream",
     "text": [
      "Fitted Values are: \n",
      "0      2.704636\n",
      "1      2.006223\n",
      "2      3.126835\n",
      "3      3.407250\n",
      "4      3.502822\n",
      "         ...   \n",
      "239    3.969131\n",
      "240    3.774836\n",
      "241    3.301175\n",
      "242    2.791807\n",
      "243    2.892630\n",
      "Length: 244, dtype: float64\n",
      "Residuals are: \n",
      "0     -1.694636\n",
      "1     -0.346223\n",
      "2      0.373165\n",
      "3     -0.097250\n",
      "4      0.107178\n",
      "         ...   \n",
      "239    1.950869\n",
      "240   -1.774836\n",
      "241   -1.301175\n",
      "242   -1.041807\n",
      "243    0.107370\n",
      "Length: 244, dtype: float64\n"
     ]
    }
   ],
   "source": [
    "x=result.fittedvalues\n",
    "y= result.resid\n",
    "\n",
    "print ('Fitted Values are: ')\n",
    "print (x)\n",
    "print ('Residuals are: ' )\n",
    "print (y)"
   ]
  },
  {
   "cell_type": "code",
   "execution_count": 10,
   "id": "60ad51ca",
   "metadata": {},
   "outputs": [
    {
     "data": {
      "text/plain": [
       "<function matplotlib.pyplot.show(*args, **kw)>"
      ]
     },
     "execution_count": 10,
     "metadata": {},
     "output_type": "execute_result"
    },
    {
     "data": {
      "image/png": "[encoded data removed]",
      "text/plain": [
       "<Figure size 432x288 with 1 Axes>"
      ]
     },
     "metadata": {
      "needs_background": "light"
     },
     "output_type": "display_data"
    }
   ],
   "source": [
    "pp= sns.scatterplot(x=result.fittedvalues,\n",
    "                   y= result.resid)\n",
    "pp.set_xlabel('Fitted values',\n",
    "             size=15)\n",
    "\n",
    "pp.set_ylabel('Residuales',\n",
    "             size=15)\n",
    "pp.set_title('Scatterplot of Fitted Values vs Residuales',\n",
    "            size=15)\n",
    "plt.show"
   ]
  },
  {
   "cell_type": "markdown",
   "id": "8aba56e8",
   "metadata": {},
   "source": [
    "En la gráfica se puede notar que la regresión no es confiable, pues los datos no están distruibuidos de forma simétrica"
   ]
  },
  {
   "cell_type": "markdown",
   "id": "e2ba60b4",
   "metadata": {},
   "source": [
    "**Conclusión**\n",
    "\n",
    "\n",
    "Para responder la pregunta, se puede decir que con las variables y datos considerados no se puede realizar una predicción confiable de cuanto será la propina. "
   ]
  },
  {
   "cell_type": "code",
   "execution_count": null,
   "id": "f731b695",
   "metadata": {},
   "outputs": [],
   "source": []
  }
 ],
 "metadata": {
  "kernelspec": {
   "display_name": "Python 3",
   "language": "python",
   "name": "python3"
  },
  "language_info": {
   "codemirror_mode": {
    "name": "ipython",
    "version": 3
   },
   "file_extension": ".py",
   "mimetype": "text/x-python",
   "name": "python",
   "nbconvert_exporter": "python",
   "pygments_lexer": "ipython3",
   "version": "3.7.10"
  }
 },
 "nbformat": 4,
 "nbformat_minor": 5
}
