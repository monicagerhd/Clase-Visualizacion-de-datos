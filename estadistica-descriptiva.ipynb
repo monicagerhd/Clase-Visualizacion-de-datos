{
 "cells": [
  {
   "cell_type": "markdown",
   "metadata": {},
   "source": [
    "En esta actividad, vas a generar resúmenes de estadística descriptiva y visualizaciones para un conjunto de datos basados en la Encuesta Nacional de Salud y Nutrición 2012. \n",
    "Vas a usar dichos datos para responder preguntas que se indican. También producirás gráficas para la visualización de los datos.\n"
   ]
  },
  {
   "cell_type": "code",
   "execution_count": 1,
   "metadata": {},
   "outputs": [],
   "source": [
    "import numpy as np\n",
    "import pandas as pd\n",
    "import seaborn as sns\n",
    "import scipy.stats as stats\n",
    "%matplotlib inline\n",
    "import matplotlib.pyplot as plt\n",
    "pd.set_option('display.max_columns', 100)\n",
    "\n",
    "path = \"antropometria-dataset.csv\""
   ]
  },
  {
   "cell_type": "code",
   "execution_count": 4,
   "metadata": {},
   "outputs": [],
   "source": [
    "# Primero, vas a importar los datos\n",
    "df = pd.read_csv(path)"
   ]
  },
  {
   "cell_type": "code",
   "execution_count": 5,
   "metadata": {},
   "outputs": [
    {
     "data": {
      "text/html": [
       "<div>\n",
       "<style scoped>\n",
       "    .dataframe tbody tr th:only-of-type {\n",
       "        vertical-align: middle;\n",
       "    }\n",
       "\n",
       "    .dataframe tbody tr th {\n",
       "        vertical-align: top;\n",
       "    }\n",
       "\n",
       "    .dataframe thead th {\n",
       "        text-align: right;\n",
       "    }\n",
       "</style>\n",
       "<table border=\"1\" class=\"dataframe\">\n",
       "  <thead>\n",
       "    <tr style=\"text-align: right;\">\n",
       "      <th></th>\n",
       "      <th>folio</th>\n",
       "      <th>intp</th>\n",
       "      <th>entidad</th>\n",
       "      <th>desc_ent</th>\n",
       "      <th>sexo</th>\n",
       "      <th>edad</th>\n",
       "      <th>meses</th>\n",
       "      <th>peso</th>\n",
       "      <th>ropa</th>\n",
       "      <th>talla</th>\n",
       "      <th>emb</th>\n",
       "      <th>temb</th>\n",
       "      <th>cintura</th>\n",
       "      <th>cadera</th>\n",
       "      <th>sistol</th>\n",
       "      <th>diastol</th>\n",
       "      <th>hpresion</th>\n",
       "      <th>tbrazo</th>\n",
       "      <th>htension</th>\n",
       "      <th>PrimaryLast</th>\n",
       "      <th>code_upm</th>\n",
       "      <th>est_dis</th>\n",
       "      <th>est_urb</th>\n",
       "      <th>est_marg</th>\n",
       "      <th>pondef</th>\n",
       "      <th>est_var</th>\n",
       "    </tr>\n",
       "  </thead>\n",
       "  <tbody>\n",
       "    <tr>\n",
       "      <th>0</th>\n",
       "      <td>210295</td>\n",
       "      <td>2</td>\n",
       "      <td>21</td>\n",
       "      <td>PUEBLA</td>\n",
       "      <td>2</td>\n",
       "      <td>38</td>\n",
       "      <td>8</td>\n",
       "      <td>73.70</td>\n",
       "      <td>2</td>\n",
       "      <td>146.4</td>\n",
       "      <td>4</td>\n",
       "      <td></td>\n",
       "      <td>98.7</td>\n",
       "      <td>106.0</td>\n",
       "      <td>63.25</td>\n",
       "      <td>53.25</td>\n",
       "      <td>16:30</td>\n",
       "      <td>2</td>\n",
       "      <td>16:35</td>\n",
       "      <td>1</td>\n",
       "      <td>R2101</td>\n",
       "      <td>5</td>\n",
       "      <td>3</td>\n",
       "      <td>1</td>\n",
       "      <td>3470.002176</td>\n",
       "      <td>215</td>\n",
       "    </tr>\n",
       "    <tr>\n",
       "      <th>1</th>\n",
       "      <td>101655</td>\n",
       "      <td>3</td>\n",
       "      <td>10</td>\n",
       "      <td>DURANGO</td>\n",
       "      <td>2</td>\n",
       "      <td>11</td>\n",
       "      <td>11</td>\n",
       "      <td>35.65</td>\n",
       "      <td>2</td>\n",
       "      <td>145.1</td>\n",
       "      <td></td>\n",
       "      <td></td>\n",
       "      <td>64.0</td>\n",
       "      <td>75.0</td>\n",
       "      <td>70.00</td>\n",
       "      <td>50.00</td>\n",
       "      <td>15:25</td>\n",
       "      <td>3</td>\n",
       "      <td>15:25</td>\n",
       "      <td>1</td>\n",
       "      <td>M1041</td>\n",
       "      <td>1</td>\n",
       "      <td>1</td>\n",
       "      <td>1</td>\n",
       "      <td>417.946672</td>\n",
       "      <td>101</td>\n",
       "    </tr>\n",
       "    <tr>\n",
       "      <th>2</th>\n",
       "      <td>10287</td>\n",
       "      <td>6</td>\n",
       "      <td>1</td>\n",
       "      <td>AGUASCALIENTES</td>\n",
       "      <td>2</td>\n",
       "      <td>18</td>\n",
       "      <td>8</td>\n",
       "      <td>54.80</td>\n",
       "      <td>1</td>\n",
       "      <td>162.0</td>\n",
       "      <td>4</td>\n",
       "      <td></td>\n",
       "      <td>67.6</td>\n",
       "      <td>94.3</td>\n",
       "      <td>70.50</td>\n",
       "      <td>41.00</td>\n",
       "      <td>9:40</td>\n",
       "      <td>1</td>\n",
       "      <td>9:40</td>\n",
       "      <td>1</td>\n",
       "      <td>M0108</td>\n",
       "      <td>5</td>\n",
       "      <td>3</td>\n",
       "      <td>1</td>\n",
       "      <td>472.980811</td>\n",
       "      <td>15</td>\n",
       "    </tr>\n",
       "    <tr>\n",
       "      <th>3</th>\n",
       "      <td>91526</td>\n",
       "      <td>4</td>\n",
       "      <td>9</td>\n",
       "      <td>DISTRITO FEDERAL</td>\n",
       "      <td>1</td>\n",
       "      <td>10</td>\n",
       "      <td>8</td>\n",
       "      <td>33.40</td>\n",
       "      <td>2</td>\n",
       "      <td>146.5</td>\n",
       "      <td></td>\n",
       "      <td></td>\n",
       "      <td>60.6</td>\n",
       "      <td>72.2</td>\n",
       "      <td>71.00</td>\n",
       "      <td>64.00</td>\n",
       "      <td>7:40</td>\n",
       "      <td>3</td>\n",
       "      <td>7:45</td>\n",
       "      <td>1</td>\n",
       "      <td>M0931</td>\n",
       "      <td>4</td>\n",
       "      <td>3</td>\n",
       "      <td>2</td>\n",
       "      <td>1832.581391</td>\n",
       "      <td>94</td>\n",
       "    </tr>\n",
       "    <tr>\n",
       "      <th>4</th>\n",
       "      <td>210939</td>\n",
       "      <td>3</td>\n",
       "      <td>21</td>\n",
       "      <td>PUEBLA</td>\n",
       "      <td>2</td>\n",
       "      <td>19</td>\n",
       "      <td>3</td>\n",
       "      <td>97.95</td>\n",
       "      <td>2</td>\n",
       "      <td>161.0</td>\n",
       "      <td>4</td>\n",
       "      <td></td>\n",
       "      <td>113.0</td>\n",
       "      <td>127.0</td>\n",
       "      <td>72.00</td>\n",
       "      <td>53.50</td>\n",
       "      <td>6:00</td>\n",
       "      <td>2</td>\n",
       "      <td>6:00</td>\n",
       "      <td>1</td>\n",
       "      <td>M2123</td>\n",
       "      <td>5</td>\n",
       "      <td>3</td>\n",
       "      <td>1</td>\n",
       "      <td>7622.066564</td>\n",
       "      <td>215</td>\n",
       "    </tr>\n",
       "  </tbody>\n",
       "</table>\n",
       "</div>"
      ],
      "text/plain": [
       "    folio  intp  entidad          desc_ent  sexo  edad  meses   peso  ropa  \\\n",
       "0  210295     2       21            PUEBLA     2    38      8  73.70     2   \n",
       "1  101655     3       10           DURANGO     2    11     11  35.65     2   \n",
       "2   10287     6        1    AGUASCALIENTES     2    18      8  54.80     1   \n",
       "3   91526     4        9  DISTRITO FEDERAL     1    10      8  33.40     2   \n",
       "4  210939     3       21            PUEBLA     2    19      3  97.95     2   \n",
       "\n",
       "   talla emb temb  cintura  cadera  sistol  diastol hpresion tbrazo htension  \\\n",
       "0  146.4   4          98.7   106.0   63.25    53.25    16:30      2    16:35   \n",
       "1  145.1              64.0    75.0   70.00    50.00    15:25      3    15:25   \n",
       "2  162.0   4          67.6    94.3   70.50    41.00     9:40      1     9:40   \n",
       "3  146.5              60.6    72.2   71.00    64.00     7:40      3     7:45   \n",
       "4  161.0   4         113.0   127.0   72.00    53.50     6:00      2     6:00   \n",
       "\n",
       "   PrimaryLast code_upm  est_dis  est_urb  est_marg       pondef  est_var  \n",
       "0            1    R2101        5        3         1  3470.002176      215  \n",
       "1            1    M1041        1        1         1   417.946672      101  \n",
       "2            1    M0108        5        3         1   472.980811       15  \n",
       "3            1    M0931        4        3         2  1832.581391       94  \n",
       "4            1    M2123        5        3         1  7622.066564      215  "
      ]
     },
     "execution_count": 5,
     "metadata": {},
     "output_type": "execute_result"
    }
   ],
   "source": [
    "# Enseguida, desplegamos los primeros datos del DataFrame 'df'.\n",
    "df.head() \n"
   ]
  },
  {
   "cell_type": "code",
   "execution_count": 6,
   "metadata": {},
   "outputs": [],
   "source": [
    "# Ahora nos vamos a enfocar en la variable peso 'peso'\n",
    "peso = df['peso']"
   ]
  },
  {
   "cell_type": "markdown",
   "metadata": {},
   "source": [
    "## Estadística descriptiva"
   ]
  },
  {
   "cell_type": "markdown",
   "metadata": {},
   "source": [
    "## Preprocesamiento de los datos\n",
    "\n",
    "Usemos .dropna() para eliminar los datos en donde falten valores (nans)"
   ]
  },
  {
   "cell_type": "code",
   "execution_count": 7,
   "metadata": {},
   "outputs": [],
   "source": [
    "peso = peso.dropna()"
   ]
  },
  {
   "cell_type": "markdown",
   "metadata": {},
   "source": [
    "### Usando las funciones estadísticas de la biblioteca Pandas encuentra:\n",
    "* La media\n",
    "* La mediana\n",
    "* El valor máximo\n",
    "* El valor mínimo\n",
    "* La desviación estándar\n",
    "* La varianza\n",
    "\n",
    "\n",
    "Puedes consultar la documentación de estas funciones en: https://pandas.pydata.org/pandas-docs/version/0.23.4/generated/pandas.Series.html"
   ]
  },
  {
   "cell_type": "code",
   "execution_count": 8,
   "metadata": {},
   "outputs": [],
   "source": [
    "# Calcula la media de 'peso'\n",
    "peso_media = peso.mean()\n"
   ]
  },
  {
   "cell_type": "code",
   "execution_count": 9,
   "metadata": {},
   "outputs": [
    {
     "data": {
      "text/plain": [
       "63.7"
      ]
     },
     "execution_count": 9,
     "metadata": {},
     "output_type": "execute_result"
    }
   ],
   "source": [
    "# Calcula la mediana de 'peso'\n",
    "peso_mediana = peso.median()\n",
    "peso_mediana"
   ]
  },
  {
   "cell_type": "code",
   "execution_count": 10,
   "metadata": {},
   "outputs": [
    {
     "data": {
      "text/plain": [
       "170.6"
      ]
     },
     "execution_count": 10,
     "metadata": {},
     "output_type": "execute_result"
    }
   ],
   "source": [
    "# Calcula el valor máximo de 'peso'\n",
    "peso_max = peso.max()\n",
    "peso_max"
   ]
  },
  {
   "cell_type": "code",
   "execution_count": 11,
   "metadata": {},
   "outputs": [
    {
     "data": {
      "text/plain": [
       "18.0"
      ]
     },
     "execution_count": 11,
     "metadata": {},
     "output_type": "execute_result"
    }
   ],
   "source": [
    "# Calcula el valor mínimo de 'peso'\n",
    "peso_min = peso.min()\n",
    "peso_min"
   ]
  },
  {
   "cell_type": "code",
   "execution_count": 12,
   "metadata": {},
   "outputs": [
    {
     "data": {
      "text/plain": [
       "17.66032524193953"
      ]
     },
     "execution_count": 12,
     "metadata": {},
     "output_type": "execute_result"
    }
   ],
   "source": [
    "# Calcula la desviación estándar de 'peso'\n",
    "peso_std = peso.std()\n",
    "peso_std"
   ]
  },
  {
   "cell_type": "code",
   "execution_count": 13,
   "metadata": {},
   "outputs": [
    {
     "data": {
      "text/plain": [
       "311.8870876510864"
      ]
     },
     "execution_count": 13,
     "metadata": {},
     "output_type": "execute_result"
    }
   ],
   "source": [
    "# Calcula la varianza de 'peso'\n",
    "peso_var = peso.var()\n",
    "peso_var"
   ]
  },
  {
   "cell_type": "code",
   "execution_count": 14,
   "metadata": {},
   "outputs": [
    {
     "data": {
      "text/plain": [
       "22.700000000000003"
      ]
     },
     "execution_count": 14,
     "metadata": {},
     "output_type": "execute_result"
    }
   ],
   "source": [
    "# Cálcula el rango intercuartilico\n",
    "# Para ello, usar la biblioteca scipy.stats que se importó como 'stats'\n",
    "peso_iqr = stats.iqr(peso) \n",
    "peso_iqr"
   ]
  },
  {
   "cell_type": "code",
   "execution_count": 15,
   "metadata": {},
   "outputs": [
    {
     "data": {
      "text/plain": [
       "count    18640.000000\n",
       "mean        64.638707\n",
       "std         17.660325\n",
       "min         18.000000\n",
       "25%         52.700000\n",
       "50%         63.700000\n",
       "75%         75.400000\n",
       "max        170.600000\n",
       "Name: peso, dtype: float64"
      ]
     },
     "execution_count": 15,
     "metadata": {},
     "output_type": "execute_result"
    }
   ],
   "source": [
    "# Usa el método Series.describe() para el cálculo de la estadística descriptiva\n",
    "peso_est_desciptiva = peso.describe()\n",
    "peso_est_desciptiva"
   ]
  },
  {
   "cell_type": "markdown",
   "metadata": {},
   "source": [
    "## Visualización de datos\n",
    "Es momento de poner en práctica lo que aprendiste sobre histogramas, diagramas de cajas y bigotes"
   ]
  },
  {
   "cell_type": "code",
   "execution_count": 16,
   "metadata": {},
   "outputs": [
    {
     "data": {
      "text/plain": [
       "Text(0.5,1,'Histograma de peso')"
      ]
     },
     "execution_count": 16,
     "metadata": {},
     "output_type": "execute_result"
    },
    {
     "data": {
      "image/png": "[encoded data removed]",
      "text/plain": [
       "<matplotlib.figure.Figure at 0x151832fc240>"
      ]
     },
     "metadata": {},
     "output_type": "display_data"
    }
   ],
   "source": [
    "# Hagamos un histograma con la biblioteca seaborn que se importó como 'sns'\n",
    "sns.distplot(a=peso, kde = False).set_title(\"Histograma de peso\")"
   ]
  },
  {
   "cell_type": "code",
   "execution_count": 45,
   "metadata": {},
   "outputs": [
    {
     "data": {
      "image/png": "[encoded data removed]",
      "text/plain": [
       "<matplotlib.figure.Figure at 0x2718203a390>"
      ]
     },
     "metadata": {},
     "output_type": "display_data"
    }
   ],
   "source": [
    "# Hagamos un diagrama de cajas y bigotes usando la biblioteca seaborn.\n",
    "sns.boxplot(peso).set_title(\"Diagrama de cajas y bigotes de peso\")\n",
    "plt.show()"
   ]
  },
  {
   "cell_type": "code",
   "execution_count": null,
   "metadata": {},
   "outputs": [],
   "source": []
  }
 ],
 "metadata": {
  "kernelspec": {
   "display_name": "Python 3",
   "language": "python",
   "name": "python3"
  },
  "language_info": {
   "codemirror_mode": {
    "name": "ipython",
    "version": 3
   },
   "file_extension": ".py",
   "mimetype": "text/x-python",
   "name": "python",
   "nbconvert_exporter": "python",
   "pygments_lexer": "ipython3",
   "version": "3.6.4"
  }
 },
 "nbformat": 4,
 "nbformat_minor": 2
}
