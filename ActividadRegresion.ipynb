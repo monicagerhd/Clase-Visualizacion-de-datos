{
 "cells": [
  {
   "cell_type": "code",
   "execution_count": 1,
   "id": "af7a7eb8",
   "metadata": {},
   "outputs": [],
   "source": [
    "import pandas as pd\n",
    "import seaborn as sns\n",
    "import matplotlib.pyplot as plt\n",
    "import numpy as np\n",
    "import statsmodels.api as sm"
   ]
  },
  {
   "cell_type": "code",
   "execution_count": 2,
   "id": "0b2e3965",
   "metadata": {},
   "outputs": [
    {
     "data": {
      "text/html": [
       "<div>\n",
       "<style scoped>\n",
       "    .dataframe tbody tr th:only-of-type {\n",
       "        vertical-align: middle;\n",
       "    }\n",
       "\n",
       "    .dataframe tbody tr th {\n",
       "        vertical-align: top;\n",
       "    }\n",
       "\n",
       "    .dataframe thead th {\n",
       "        text-align: right;\n",
       "    }\n",
       "</style>\n",
       "<table border=\"1\" class=\"dataframe\">\n",
       "  <thead>\n",
       "    <tr style=\"text-align: right;\">\n",
       "      <th></th>\n",
       "      <th>folio</th>\n",
       "      <th>intp</th>\n",
       "      <th>entidad</th>\n",
       "      <th>desc_ent</th>\n",
       "      <th>sexo</th>\n",
       "      <th>edad</th>\n",
       "      <th>meses</th>\n",
       "      <th>peso</th>\n",
       "      <th>ropa</th>\n",
       "      <th>talla</th>\n",
       "      <th>...</th>\n",
       "      <th>hpresion</th>\n",
       "      <th>tbrazo</th>\n",
       "      <th>htension</th>\n",
       "      <th>PrimaryLast</th>\n",
       "      <th>code_upm</th>\n",
       "      <th>est_dis</th>\n",
       "      <th>est_urb</th>\n",
       "      <th>est_marg</th>\n",
       "      <th>pondef</th>\n",
       "      <th>est_var</th>\n",
       "    </tr>\n",
       "  </thead>\n",
       "  <tbody>\n",
       "    <tr>\n",
       "      <th>0</th>\n",
       "      <td>210295</td>\n",
       "      <td>2</td>\n",
       "      <td>21</td>\n",
       "      <td>PUEBLA</td>\n",
       "      <td>2</td>\n",
       "      <td>38</td>\n",
       "      <td>8</td>\n",
       "      <td>73.70</td>\n",
       "      <td>2</td>\n",
       "      <td>146.4</td>\n",
       "      <td>...</td>\n",
       "      <td>16:30</td>\n",
       "      <td>2</td>\n",
       "      <td>16:35</td>\n",
       "      <td>1</td>\n",
       "      <td>R2101</td>\n",
       "      <td>5</td>\n",
       "      <td>3</td>\n",
       "      <td>1</td>\n",
       "      <td>3470.002176</td>\n",
       "      <td>215</td>\n",
       "    </tr>\n",
       "    <tr>\n",
       "      <th>1</th>\n",
       "      <td>101655</td>\n",
       "      <td>3</td>\n",
       "      <td>10</td>\n",
       "      <td>DURANGO</td>\n",
       "      <td>2</td>\n",
       "      <td>11</td>\n",
       "      <td>11</td>\n",
       "      <td>35.65</td>\n",
       "      <td>2</td>\n",
       "      <td>145.1</td>\n",
       "      <td>...</td>\n",
       "      <td>15:25</td>\n",
       "      <td>3</td>\n",
       "      <td>15:25</td>\n",
       "      <td>1</td>\n",
       "      <td>M1041</td>\n",
       "      <td>1</td>\n",
       "      <td>1</td>\n",
       "      <td>1</td>\n",
       "      <td>417.946672</td>\n",
       "      <td>101</td>\n",
       "    </tr>\n",
       "  </tbody>\n",
       "</table>\n",
       "<p>2 rows × 26 columns</p>\n",
       "</div>"
      ],
      "text/plain": [
       "    folio  intp  entidad desc_ent  sexo  edad  meses   peso  ropa  talla  ...  \\\n",
       "0  210295     2       21   PUEBLA     2    38      8  73.70     2  146.4  ...   \n",
       "1  101655     3       10  DURANGO     2    11     11  35.65     2  145.1  ...   \n",
       "\n",
       "  hpresion tbrazo  htension  PrimaryLast  code_upm  est_dis est_urb est_marg  \\\n",
       "0    16:30      2     16:35            1     R2101        5       3        1   \n",
       "1    15:25      3     15:25            1     M1041        1       1        1   \n",
       "\n",
       "        pondef  est_var  \n",
       "0  3470.002176      215  \n",
       "1   417.946672      101  \n",
       "\n",
       "[2 rows x 26 columns]"
      ]
     },
     "execution_count": 2,
     "metadata": {},
     "output_type": "execute_result"
    }
   ],
   "source": [
    "df=pd.read_csv('datasets/antropometria-dataset.csv')\n",
    "df.head(2)"
   ]
  },
  {
   "cell_type": "code",
   "execution_count": 3,
   "id": "8f88b0b3",
   "metadata": {},
   "outputs": [],
   "source": [
    "vars= [ 'peso', 'cintura']"
   ]
  },
  {
   "cell_type": "code",
   "execution_count": 4,
   "id": "a7788a37",
   "metadata": {},
   "outputs": [
    {
     "data": {
      "text/html": [
       "<table class=\"simpletable\">\n",
       "<caption>OLS Regression Results</caption>\n",
       "<tr>\n",
       "  <th>Dep. Variable:</th>          <td>peso</td>       <th>  R-squared:         </th> <td>   0.627</td> \n",
       "</tr>\n",
       "<tr>\n",
       "  <th>Model:</th>                   <td>OLS</td>       <th>  Adj. R-squared:    </th> <td>   0.627</td> \n",
       "</tr>\n",
       "<tr>\n",
       "  <th>Method:</th>             <td>Least Squares</td>  <th>  F-statistic:       </th> <td>3.028e+04</td>\n",
       "</tr>\n",
       "<tr>\n",
       "  <th>Date:</th>             <td>Tue, 07 Sep 2021</td> <th>  Prob (F-statistic):</th>  <td>  0.00</td>  \n",
       "</tr>\n",
       "<tr>\n",
       "  <th>Time:</th>                 <td>20:31:00</td>     <th>  Log-Likelihood:    </th> <td> -68622.</td> \n",
       "</tr>\n",
       "<tr>\n",
       "  <th>No. Observations:</th>      <td> 18032</td>      <th>  AIC:               </th> <td>1.372e+05</td>\n",
       "</tr>\n",
       "<tr>\n",
       "  <th>Df Residuals:</th>          <td> 18030</td>      <th>  BIC:               </th> <td>1.373e+05</td>\n",
       "</tr>\n",
       "<tr>\n",
       "  <th>Df Model:</th>              <td>     1</td>      <th>                     </th>     <td> </td>    \n",
       "</tr>\n",
       "<tr>\n",
       "  <th>Covariance Type:</th>      <td>nonrobust</td>    <th>                     </th>     <td> </td>    \n",
       "</tr>\n",
       "</table>\n",
       "<table class=\"simpletable\">\n",
       "<tr>\n",
       "      <td></td>         <th>coef</th>     <th>std err</th>      <th>t</th>      <th>P>|t|</th>  <th>[0.025</th>    <th>0.975]</th>  \n",
       "</tr>\n",
       "<tr>\n",
       "  <th>Intercept</th> <td>   -8.3137</td> <td>    0.427</td> <td>  -19.458</td> <td> 0.000</td> <td>   -9.151</td> <td>   -7.476</td>\n",
       "</tr>\n",
       "<tr>\n",
       "  <th>cintura</th>   <td>    0.8316</td> <td>    0.005</td> <td>  173.999</td> <td> 0.000</td> <td>    0.822</td> <td>    0.841</td>\n",
       "</tr>\n",
       "</table>\n",
       "<table class=\"simpletable\">\n",
       "<tr>\n",
       "  <th>Omnibus:</th>       <td>12737.948</td> <th>  Durbin-Watson:     </th>  <td>   1.884</td>  \n",
       "</tr>\n",
       "<tr>\n",
       "  <th>Prob(Omnibus):</th>  <td> 0.000</td>   <th>  Jarque-Bera (JB):  </th> <td>1022852.813</td>\n",
       "</tr>\n",
       "<tr>\n",
       "  <th>Skew:</th>           <td>-2.683</td>   <th>  Prob(JB):          </th>  <td>    0.00</td>  \n",
       "</tr>\n",
       "<tr>\n",
       "  <th>Kurtosis:</th>       <td>39.505</td>   <th>  Cond. No.          </th>  <td>    472.</td>  \n",
       "</tr>\n",
       "</table><br/><br/>Warnings:<br/>[1] Standard Errors assume that the covariance matrix of the errors is correctly specified."
      ],
      "text/plain": [
       "<class 'statsmodels.iolib.summary.Summary'>\n",
       "\"\"\"\n",
       "                            OLS Regression Results                            \n",
       "==============================================================================\n",
       "Dep. Variable:                   peso   R-squared:                       0.627\n",
       "Model:                            OLS   Adj. R-squared:                  0.627\n",
       "Method:                 Least Squares   F-statistic:                 3.028e+04\n",
       "Date:                Tue, 07 Sep 2021   Prob (F-statistic):               0.00\n",
       "Time:                        20:31:00   Log-Likelihood:                -68622.\n",
       "No. Observations:               18032   AIC:                         1.372e+05\n",
       "Df Residuals:                   18030   BIC:                         1.373e+05\n",
       "Df Model:                           1                                         \n",
       "Covariance Type:            nonrobust                                         \n",
       "==============================================================================\n",
       "                 coef    std err          t      P>|t|      [0.025      0.975]\n",
       "------------------------------------------------------------------------------\n",
       "Intercept     -8.3137      0.427    -19.458      0.000      -9.151      -7.476\n",
       "cintura        0.8316      0.005    173.999      0.000       0.822       0.841\n",
       "==============================================================================\n",
       "Omnibus:                    12737.948   Durbin-Watson:                   1.884\n",
       "Prob(Omnibus):                  0.000   Jarque-Bera (JB):          1022852.813\n",
       "Skew:                          -2.683   Prob(JB):                         0.00\n",
       "Kurtosis:                      39.505   Cond. No.                         472.\n",
       "==============================================================================\n",
       "\n",
       "Warnings:\n",
       "[1] Standard Errors assume that the covariance matrix of the errors is correctly specified.\n",
       "\"\"\""
      ]
     },
     "execution_count": 4,
     "metadata": {},
     "output_type": "execute_result"
    }
   ],
   "source": [
    "model= sm.OLS.from_formula('peso~cintura', #peso= b0+cintura*b1\n",
    "                          data=df)\n",
    "result=model.fit()\n",
    "result.summary()"
   ]
  },
  {
   "cell_type": "code",
   "execution_count": 5,
   "id": "5ebe049d",
   "metadata": {},
   "outputs": [
    {
     "data": {
      "image/png": "[encoded data removed]",
      "text/plain": [
       "<Figure size 360x360 with 1 Axes>"
      ]
     },
     "metadata": {
      "needs_background": "light"
     },
     "output_type": "display_data"
    }
   ],
   "source": [
    "rv= sns.lmplot(\n",
    "    x='cintura',\n",
    "    y= 'peso',\n",
    "    fit_reg= True, \n",
    "    data = df    \n",
    ") \n",
    "\n",
    "plt.show()"
   ]
  },
  {
   "cell_type": "code",
   "execution_count": 6,
   "id": "37dce680",
   "metadata": {},
   "outputs": [
    {
     "data": {
      "text/plain": [
       "0        73.762068\n",
       "1        44.906672\n",
       "2        47.900315\n",
       "3        42.079342\n",
       "4        85.653485\n",
       "           ...    \n",
       "18635    69.022133\n",
       "18636    77.379387\n",
       "18637    51.018694\n",
       "18638    74.801528\n",
       "18639    81.620382\n",
       "Length: 18032, dtype: float64"
      ]
     },
     "execution_count": 6,
     "metadata": {},
     "output_type": "execute_result"
    }
   ],
   "source": [
    "ft= result.fittedvalues\n",
    "ft"
   ]
  },
  {
   "cell_type": "code",
   "execution_count": 7,
   "id": "cfcf2437",
   "metadata": {},
   "outputs": [
    {
     "data": {
      "text/plain": [
       "0        -0.062068\n",
       "1        -9.256672\n",
       "2         6.899685\n",
       "3        -8.679342\n",
       "4        12.296515\n",
       "           ...    \n",
       "18635     6.777867\n",
       "18636    -7.979387\n",
       "18637    -4.268694\n",
       "18638   -15.751528\n",
       "18639    -1.620382\n",
       "Length: 18032, dtype: float64"
      ]
     },
     "execution_count": 7,
     "metadata": {},
     "output_type": "execute_result"
    }
   ],
   "source": [
    "residuals= result.resid\n",
    "residuals"
   ]
  },
  {
   "cell_type": "code",
   "execution_count": 8,
   "id": "0314b6e3",
   "metadata": {},
   "outputs": [
    {
     "data": {
      "image/png": "[encoded data removed]",
      "text/plain": [
       "<Figure size 432x288 with 1 Axes>"
      ]
     },
     "metadata": {
      "needs_background": "light"
     },
     "output_type": "display_data"
    }
   ],
   "source": [
    "fv=sns.scatterplot(x=ft,\n",
    "                   y= residuals)   \n",
    "fv.set_xlabel('Fitted values',\n",
    "             size=15)\n",
    "\n",
    "fv.set_ylabel('Residuales',\n",
    "             size=15)\n",
    "fv.set_title('Scatterplot of Fitted Values vs Residuales',\n",
    "            size=15)\n",
    "plt.show()"
   ]
  },
  {
   "cell_type": "markdown",
   "id": "579add38",
   "metadata": {},
   "source": [
    "# Hombres\n"
   ]
  },
  {
   "cell_type": "code",
   "execution_count": 9,
   "id": "122c6f7f",
   "metadata": {},
   "outputs": [],
   "source": [
    "just_hombres=((df['sexo']==1))"
   ]
  },
  {
   "cell_type": "code",
   "execution_count": 10,
   "id": "b602332b",
   "metadata": {},
   "outputs": [
    {
     "data": {
      "text/html": [
       "<div>\n",
       "<style scoped>\n",
       "    .dataframe tbody tr th:only-of-type {\n",
       "        vertical-align: middle;\n",
       "    }\n",
       "\n",
       "    .dataframe tbody tr th {\n",
       "        vertical-align: top;\n",
       "    }\n",
       "\n",
       "    .dataframe thead th {\n",
       "        text-align: right;\n",
       "    }\n",
       "</style>\n",
       "<table border=\"1\" class=\"dataframe\">\n",
       "  <thead>\n",
       "    <tr style=\"text-align: right;\">\n",
       "      <th></th>\n",
       "      <th>folio</th>\n",
       "      <th>intp</th>\n",
       "      <th>entidad</th>\n",
       "      <th>desc_ent</th>\n",
       "      <th>sexo</th>\n",
       "      <th>edad</th>\n",
       "      <th>meses</th>\n",
       "      <th>peso</th>\n",
       "      <th>ropa</th>\n",
       "      <th>talla</th>\n",
       "      <th>...</th>\n",
       "      <th>hpresion</th>\n",
       "      <th>tbrazo</th>\n",
       "      <th>htension</th>\n",
       "      <th>PrimaryLast</th>\n",
       "      <th>code_upm</th>\n",
       "      <th>est_dis</th>\n",
       "      <th>est_urb</th>\n",
       "      <th>est_marg</th>\n",
       "      <th>pondef</th>\n",
       "      <th>est_var</th>\n",
       "    </tr>\n",
       "  </thead>\n",
       "  <tbody>\n",
       "    <tr>\n",
       "      <th>3</th>\n",
       "      <td>91526</td>\n",
       "      <td>4</td>\n",
       "      <td>9</td>\n",
       "      <td>DISTRITO FEDERAL</td>\n",
       "      <td>1</td>\n",
       "      <td>10</td>\n",
       "      <td>8</td>\n",
       "      <td>33.400</td>\n",
       "      <td>2</td>\n",
       "      <td>146.50</td>\n",
       "      <td>...</td>\n",
       "      <td>7:40</td>\n",
       "      <td>3</td>\n",
       "      <td>7:45</td>\n",
       "      <td>1</td>\n",
       "      <td>M0931</td>\n",
       "      <td>4</td>\n",
       "      <td>3</td>\n",
       "      <td>2</td>\n",
       "      <td>1832.581391</td>\n",
       "      <td>94</td>\n",
       "    </tr>\n",
       "    <tr>\n",
       "      <th>5</th>\n",
       "      <td>241555</td>\n",
       "      <td>3</td>\n",
       "      <td>24</td>\n",
       "      <td>SAN LUIS POTOSI</td>\n",
       "      <td>1</td>\n",
       "      <td>10</td>\n",
       "      <td>7</td>\n",
       "      <td>31.900</td>\n",
       "      <td>1</td>\n",
       "      <td>141.45</td>\n",
       "      <td>...</td>\n",
       "      <td>20:12</td>\n",
       "      <td>1</td>\n",
       "      <td>20:19</td>\n",
       "      <td>1</td>\n",
       "      <td>M2435</td>\n",
       "      <td>5</td>\n",
       "      <td>3</td>\n",
       "      <td>1</td>\n",
       "      <td>588.463281</td>\n",
       "      <td>245</td>\n",
       "    </tr>\n",
       "    <tr>\n",
       "      <th>9</th>\n",
       "      <td>31220</td>\n",
       "      <td>3</td>\n",
       "      <td>3</td>\n",
       "      <td>BAJA CALIFORNIA SUR</td>\n",
       "      <td>1</td>\n",
       "      <td>10</td>\n",
       "      <td>10</td>\n",
       "      <td>48.025</td>\n",
       "      <td>1</td>\n",
       "      <td>147.05</td>\n",
       "      <td>...</td>\n",
       "      <td>17:09</td>\n",
       "      <td>2</td>\n",
       "      <td>17:09</td>\n",
       "      <td>1</td>\n",
       "      <td>M0331</td>\n",
       "      <td>5</td>\n",
       "      <td>3</td>\n",
       "      <td>1</td>\n",
       "      <td>138.063636</td>\n",
       "      <td>35</td>\n",
       "    </tr>\n",
       "    <tr>\n",
       "      <th>17</th>\n",
       "      <td>320763</td>\n",
       "      <td>4</td>\n",
       "      <td>32</td>\n",
       "      <td>ZACATECAS</td>\n",
       "      <td>1</td>\n",
       "      <td>11</td>\n",
       "      <td>3</td>\n",
       "      <td>31.500</td>\n",
       "      <td>1</td>\n",
       "      <td>140.65</td>\n",
       "      <td>...</td>\n",
       "      <td>12:40</td>\n",
       "      <td>1</td>\n",
       "      <td>12:55</td>\n",
       "      <td>1</td>\n",
       "      <td>M3220</td>\n",
       "      <td>3</td>\n",
       "      <td>2</td>\n",
       "      <td>1</td>\n",
       "      <td>1285.844656</td>\n",
       "      <td>323</td>\n",
       "    </tr>\n",
       "    <tr>\n",
       "      <th>21</th>\n",
       "      <td>261348</td>\n",
       "      <td>5</td>\n",
       "      <td>26</td>\n",
       "      <td>SONORA</td>\n",
       "      <td>1</td>\n",
       "      <td>11</td>\n",
       "      <td>7</td>\n",
       "      <td>59.850</td>\n",
       "      <td>2</td>\n",
       "      <td>146.50</td>\n",
       "      <td>...</td>\n",
       "      <td>7:00</td>\n",
       "      <td>2</td>\n",
       "      <td>7:10</td>\n",
       "      <td>1</td>\n",
       "      <td>M2632</td>\n",
       "      <td>2</td>\n",
       "      <td>1</td>\n",
       "      <td>2</td>\n",
       "      <td>737.343409</td>\n",
       "      <td>262</td>\n",
       "    </tr>\n",
       "  </tbody>\n",
       "</table>\n",
       "<p>5 rows × 26 columns</p>\n",
       "</div>"
      ],
      "text/plain": [
       "     folio  intp  entidad             desc_ent  sexo  edad  meses    peso  \\\n",
       "3    91526     4        9     DISTRITO FEDERAL     1    10      8  33.400   \n",
       "5   241555     3       24      SAN LUIS POTOSI     1    10      7  31.900   \n",
       "9    31220     3        3  BAJA CALIFORNIA SUR     1    10     10  48.025   \n",
       "17  320763     4       32            ZACATECAS     1    11      3  31.500   \n",
       "21  261348     5       26               SONORA     1    11      7  59.850   \n",
       "\n",
       "    ropa   talla  ... hpresion tbrazo  htension  PrimaryLast  code_upm  \\\n",
       "3      2  146.50  ...     7:40      3      7:45            1     M0931   \n",
       "5      1  141.45  ...    20:12      1     20:19            1     M2435   \n",
       "9      1  147.05  ...    17:09      2     17:09            1     M0331   \n",
       "17     1  140.65  ...    12:40      1     12:55            1     M3220   \n",
       "21     2  146.50  ...     7:00      2      7:10            1     M2632   \n",
       "\n",
       "    est_dis est_urb est_marg       pondef  est_var  \n",
       "3         4       3        2  1832.581391       94  \n",
       "5         5       3        1   588.463281      245  \n",
       "9         5       3        1   138.063636       35  \n",
       "17        3       2        1  1285.844656      323  \n",
       "21        2       1        2   737.343409      262  \n",
       "\n",
       "[5 rows x 26 columns]"
      ]
     },
     "execution_count": 10,
     "metadata": {},
     "output_type": "execute_result"
    }
   ],
   "source": [
    "hombres= df[just_hombres] \n",
    "hombres.head()"
   ]
  },
  {
   "cell_type": "code",
   "execution_count": 11,
   "id": "7642986d",
   "metadata": {},
   "outputs": [
    {
     "data": {
      "text/html": [
       "<table class=\"simpletable\">\n",
       "<caption>OLS Regression Results</caption>\n",
       "<tr>\n",
       "  <th>Dep. Variable:</th>         <td>peso_h</td>      <th>  R-squared:         </th> <td>   0.713</td> \n",
       "</tr>\n",
       "<tr>\n",
       "  <th>Model:</th>                   <td>OLS</td>       <th>  Adj. R-squared:    </th> <td>   0.713</td> \n",
       "</tr>\n",
       "<tr>\n",
       "  <th>Method:</th>             <td>Least Squares</td>  <th>  F-statistic:       </th> <td>2.022e+04</td>\n",
       "</tr>\n",
       "<tr>\n",
       "  <th>Date:</th>             <td>Tue, 07 Sep 2021</td> <th>  Prob (F-statistic):</th>  <td>  0.00</td>  \n",
       "</tr>\n",
       "<tr>\n",
       "  <th>Time:</th>                 <td>20:31:58</td>     <th>  Log-Likelihood:    </th> <td> -30486.</td> \n",
       "</tr>\n",
       "<tr>\n",
       "  <th>No. Observations:</th>      <td>  8154</td>      <th>  AIC:               </th> <td>6.098e+04</td>\n",
       "</tr>\n",
       "<tr>\n",
       "  <th>Df Residuals:</th>          <td>  8152</td>      <th>  BIC:               </th> <td>6.099e+04</td>\n",
       "</tr>\n",
       "<tr>\n",
       "  <th>Df Model:</th>              <td>     1</td>      <th>                     </th>     <td> </td>    \n",
       "</tr>\n",
       "<tr>\n",
       "  <th>Covariance Type:</th>      <td>nonrobust</td>    <th>                     </th>     <td> </td>    \n",
       "</tr>\n",
       "</table>\n",
       "<table class=\"simpletable\">\n",
       "<tr>\n",
       "      <td></td>         <th>coef</th>     <th>std err</th>      <th>t</th>      <th>P>|t|</th>  <th>[0.025</th>    <th>0.975]</th>  \n",
       "</tr>\n",
       "<tr>\n",
       "  <th>Intercept</th> <td>  -16.5015</td> <td>    0.599</td> <td>  -27.556</td> <td> 0.000</td> <td>  -17.675</td> <td>  -15.328</td>\n",
       "</tr>\n",
       "<tr>\n",
       "  <th>cintura_h</th> <td>    0.9558</td> <td>    0.007</td> <td>  142.200</td> <td> 0.000</td> <td>    0.943</td> <td>    0.969</td>\n",
       "</tr>\n",
       "</table>\n",
       "<table class=\"simpletable\">\n",
       "<tr>\n",
       "  <th>Omnibus:</th>       <td>6572.799</td> <th>  Durbin-Watson:     </th>  <td>   1.889</td> \n",
       "</tr>\n",
       "<tr>\n",
       "  <th>Prob(Omnibus):</th>  <td> 0.000</td>  <th>  Jarque-Bera (JB):  </th> <td>878711.348</td>\n",
       "</tr>\n",
       "<tr>\n",
       "  <th>Skew:</th>           <td>-3.142</td>  <th>  Prob(JB):          </th>  <td>    0.00</td> \n",
       "</tr>\n",
       "<tr>\n",
       "  <th>Kurtosis:</th>       <td>53.466</td>  <th>  Cond. No.          </th>  <td>    474.</td> \n",
       "</tr>\n",
       "</table><br/><br/>Warnings:<br/>[1] Standard Errors assume that the covariance matrix of the errors is correctly specified."
      ],
      "text/plain": [
       "<class 'statsmodels.iolib.summary.Summary'>\n",
       "\"\"\"\n",
       "                            OLS Regression Results                            \n",
       "==============================================================================\n",
       "Dep. Variable:                 peso_h   R-squared:                       0.713\n",
       "Model:                            OLS   Adj. R-squared:                  0.713\n",
       "Method:                 Least Squares   F-statistic:                 2.022e+04\n",
       "Date:                Tue, 07 Sep 2021   Prob (F-statistic):               0.00\n",
       "Time:                        20:31:58   Log-Likelihood:                -30486.\n",
       "No. Observations:                8154   AIC:                         6.098e+04\n",
       "Df Residuals:                    8152   BIC:                         6.099e+04\n",
       "Df Model:                           1                                         \n",
       "Covariance Type:            nonrobust                                         \n",
       "==============================================================================\n",
       "                 coef    std err          t      P>|t|      [0.025      0.975]\n",
       "------------------------------------------------------------------------------\n",
       "Intercept    -16.5015      0.599    -27.556      0.000     -17.675     -15.328\n",
       "cintura_h      0.9558      0.007    142.200      0.000       0.943       0.969\n",
       "==============================================================================\n",
       "Omnibus:                     6572.799   Durbin-Watson:                   1.889\n",
       "Prob(Omnibus):                  0.000   Jarque-Bera (JB):           878711.348\n",
       "Skew:                          -3.142   Prob(JB):                         0.00\n",
       "Kurtosis:                      53.466   Cond. No.                         474.\n",
       "==============================================================================\n",
       "\n",
       "Warnings:\n",
       "[1] Standard Errors assume that the covariance matrix of the errors is correctly specified.\n",
       "\"\"\""
      ]
     },
     "execution_count": 11,
     "metadata": {},
     "output_type": "execute_result"
    }
   ],
   "source": [
    "peso_h = hombres['peso']\n",
    "cintura_h= hombres['cintura']\n",
    "model_h= sm.OLS.from_formula('peso_h~cintura_h', #peso= b0+cintura*b1\n",
    "                             data=just_hombres)\n",
    "result=model_h.fit()\n",
    "result.summary()"
   ]
  },
  {
   "cell_type": "code",
   "execution_count": 12,
   "id": "38d61bbc",
   "metadata": {},
   "outputs": [
    {
     "data": {
      "image/png": "[encoded data removed]",
      "text/plain": [
       "<Figure size 360x360 with 1 Axes>"
      ]
     },
     "metadata": {
      "needs_background": "light"
     },
     "output_type": "display_data"
    }
   ],
   "source": [
    "rv_h= sns.lmplot(\n",
    "    x='cintura',\n",
    "    y= 'peso',\n",
    "    fit_reg= True, \n",
    "    data = hombres    \n",
    ") \n",
    "\n",
    "plt.show()"
   ]
  },
  {
   "cell_type": "code",
   "execution_count": 13,
   "id": "019c850a",
   "metadata": {},
   "outputs": [
    {
     "data": {
      "text/plain": [
       "3         41.418430\n",
       "5         40.367079\n",
       "9         59.625918\n",
       "17        41.514007\n",
       "21        75.443972\n",
       "            ...    \n",
       "18626     83.137951\n",
       "18627     79.792743\n",
       "18630     63.401224\n",
       "18634    109.660670\n",
       "18637     51.692997\n",
       "Length: 8154, dtype: float64"
      ]
     },
     "execution_count": 13,
     "metadata": {},
     "output_type": "execute_result"
    }
   ],
   "source": [
    "ft_h= result.fittedvalues\n",
    "ft_h"
   ]
  },
  {
   "cell_type": "code",
   "execution_count": 14,
   "id": "ed7435ad",
   "metadata": {},
   "outputs": [
    {
     "data": {
      "text/plain": [
       "3        -8.018430\n",
       "5        -8.467079\n",
       "9       -11.600918\n",
       "17      -10.014007\n",
       "21      -15.593972\n",
       "           ...    \n",
       "18626    -5.787951\n",
       "18627   -11.192743\n",
       "18630    -6.351224\n",
       "18634     9.189330\n",
       "18637    -4.942997\n",
       "Length: 8154, dtype: float64"
      ]
     },
     "execution_count": 14,
     "metadata": {},
     "output_type": "execute_result"
    }
   ],
   "source": [
    "residuals_h= result.resid\n",
    "residuals_h"
   ]
  },
  {
   "cell_type": "code",
   "execution_count": 15,
   "id": "18f1afc5",
   "metadata": {},
   "outputs": [
    {
     "data": {
      "image/png": "[encoded data removed]",
      "text/plain": [
       "<Figure size 432x288 with 1 Axes>"
      ]
     },
     "metadata": {
      "needs_background": "light"
     },
     "output_type": "display_data"
    }
   ],
   "source": [
    "fv_h=sns.scatterplot(x=ft_h,\n",
    "                   y= residuals_h)   \n",
    "fv_h.set_xlabel('Fitted values',\n",
    "             size=15)\n",
    "\n",
    "fv_h.set_ylabel('Residuales',\n",
    "             size=15)\n",
    "fv_h.set_title('Scatterplot of Fitted Values vs Residuales para hombres',\n",
    "            size=15)\n",
    "plt.show()"
   ]
  },
  {
   "cell_type": "markdown",
   "id": "585d822a",
   "metadata": {},
   "source": [
    "# Mujeres"
   ]
  },
  {
   "cell_type": "code",
   "execution_count": 16,
   "id": "69fbfdb8",
   "metadata": {},
   "outputs": [],
   "source": [
    "just_mujeres=((df['sexo']==2))"
   ]
  },
  {
   "cell_type": "code",
   "execution_count": 17,
   "id": "d5a32a79",
   "metadata": {},
   "outputs": [
    {
     "data": {
      "text/html": [
       "<div>\n",
       "<style scoped>\n",
       "    .dataframe tbody tr th:only-of-type {\n",
       "        vertical-align: middle;\n",
       "    }\n",
       "\n",
       "    .dataframe tbody tr th {\n",
       "        vertical-align: top;\n",
       "    }\n",
       "\n",
       "    .dataframe thead th {\n",
       "        text-align: right;\n",
       "    }\n",
       "</style>\n",
       "<table border=\"1\" class=\"dataframe\">\n",
       "  <thead>\n",
       "    <tr style=\"text-align: right;\">\n",
       "      <th></th>\n",
       "      <th>folio</th>\n",
       "      <th>intp</th>\n",
       "      <th>entidad</th>\n",
       "      <th>desc_ent</th>\n",
       "      <th>sexo</th>\n",
       "      <th>edad</th>\n",
       "      <th>meses</th>\n",
       "      <th>peso</th>\n",
       "      <th>ropa</th>\n",
       "      <th>talla</th>\n",
       "      <th>...</th>\n",
       "      <th>hpresion</th>\n",
       "      <th>tbrazo</th>\n",
       "      <th>htension</th>\n",
       "      <th>PrimaryLast</th>\n",
       "      <th>code_upm</th>\n",
       "      <th>est_dis</th>\n",
       "      <th>est_urb</th>\n",
       "      <th>est_marg</th>\n",
       "      <th>pondef</th>\n",
       "      <th>est_var</th>\n",
       "    </tr>\n",
       "  </thead>\n",
       "  <tbody>\n",
       "    <tr>\n",
       "      <th>0</th>\n",
       "      <td>210295</td>\n",
       "      <td>2</td>\n",
       "      <td>21</td>\n",
       "      <td>PUEBLA</td>\n",
       "      <td>2</td>\n",
       "      <td>38</td>\n",
       "      <td>8</td>\n",
       "      <td>73.70</td>\n",
       "      <td>2</td>\n",
       "      <td>146.40</td>\n",
       "      <td>...</td>\n",
       "      <td>16:30</td>\n",
       "      <td>2</td>\n",
       "      <td>16:35</td>\n",
       "      <td>1</td>\n",
       "      <td>R2101</td>\n",
       "      <td>5</td>\n",
       "      <td>3</td>\n",
       "      <td>1</td>\n",
       "      <td>3470.002176</td>\n",
       "      <td>215</td>\n",
       "    </tr>\n",
       "    <tr>\n",
       "      <th>1</th>\n",
       "      <td>101655</td>\n",
       "      <td>3</td>\n",
       "      <td>10</td>\n",
       "      <td>DURANGO</td>\n",
       "      <td>2</td>\n",
       "      <td>11</td>\n",
       "      <td>11</td>\n",
       "      <td>35.65</td>\n",
       "      <td>2</td>\n",
       "      <td>145.10</td>\n",
       "      <td>...</td>\n",
       "      <td>15:25</td>\n",
       "      <td>3</td>\n",
       "      <td>15:25</td>\n",
       "      <td>1</td>\n",
       "      <td>M1041</td>\n",
       "      <td>1</td>\n",
       "      <td>1</td>\n",
       "      <td>1</td>\n",
       "      <td>417.946672</td>\n",
       "      <td>101</td>\n",
       "    </tr>\n",
       "    <tr>\n",
       "      <th>2</th>\n",
       "      <td>10287</td>\n",
       "      <td>6</td>\n",
       "      <td>1</td>\n",
       "      <td>AGUASCALIENTES</td>\n",
       "      <td>2</td>\n",
       "      <td>18</td>\n",
       "      <td>8</td>\n",
       "      <td>54.80</td>\n",
       "      <td>1</td>\n",
       "      <td>162.00</td>\n",
       "      <td>...</td>\n",
       "      <td>9:40</td>\n",
       "      <td>1</td>\n",
       "      <td>9:40</td>\n",
       "      <td>1</td>\n",
       "      <td>M0108</td>\n",
       "      <td>5</td>\n",
       "      <td>3</td>\n",
       "      <td>1</td>\n",
       "      <td>472.980811</td>\n",
       "      <td>15</td>\n",
       "    </tr>\n",
       "    <tr>\n",
       "      <th>4</th>\n",
       "      <td>210939</td>\n",
       "      <td>3</td>\n",
       "      <td>21</td>\n",
       "      <td>PUEBLA</td>\n",
       "      <td>2</td>\n",
       "      <td>19</td>\n",
       "      <td>3</td>\n",
       "      <td>97.95</td>\n",
       "      <td>2</td>\n",
       "      <td>161.00</td>\n",
       "      <td>...</td>\n",
       "      <td>6:00</td>\n",
       "      <td>2</td>\n",
       "      <td>6:00</td>\n",
       "      <td>1</td>\n",
       "      <td>M2123</td>\n",
       "      <td>5</td>\n",
       "      <td>3</td>\n",
       "      <td>1</td>\n",
       "      <td>7622.066564</td>\n",
       "      <td>215</td>\n",
       "    </tr>\n",
       "    <tr>\n",
       "      <th>6</th>\n",
       "      <td>211879</td>\n",
       "      <td>2</td>\n",
       "      <td>21</td>\n",
       "      <td>PUEBLA</td>\n",
       "      <td>2</td>\n",
       "      <td>10</td>\n",
       "      <td>9</td>\n",
       "      <td>31.95</td>\n",
       "      <td>2</td>\n",
       "      <td>134.95</td>\n",
       "      <td>...</td>\n",
       "      <td>22:22</td>\n",
       "      <td>2</td>\n",
       "      <td>15:11</td>\n",
       "      <td>1</td>\n",
       "      <td>M2144</td>\n",
       "      <td>1</td>\n",
       "      <td>1</td>\n",
       "      <td>1</td>\n",
       "      <td>1879.750532</td>\n",
       "      <td>211</td>\n",
       "    </tr>\n",
       "  </tbody>\n",
       "</table>\n",
       "<p>5 rows × 26 columns</p>\n",
       "</div>"
      ],
      "text/plain": [
       "    folio  intp  entidad        desc_ent  sexo  edad  meses   peso  ropa  \\\n",
       "0  210295     2       21          PUEBLA     2    38      8  73.70     2   \n",
       "1  101655     3       10         DURANGO     2    11     11  35.65     2   \n",
       "2   10287     6        1  AGUASCALIENTES     2    18      8  54.80     1   \n",
       "4  210939     3       21          PUEBLA     2    19      3  97.95     2   \n",
       "6  211879     2       21          PUEBLA     2    10      9  31.95     2   \n",
       "\n",
       "    talla  ... hpresion tbrazo  htension  PrimaryLast  code_upm  est_dis  \\\n",
       "0  146.40  ...    16:30      2     16:35            1     R2101        5   \n",
       "1  145.10  ...    15:25      3     15:25            1     M1041        1   \n",
       "2  162.00  ...     9:40      1      9:40            1     M0108        5   \n",
       "4  161.00  ...     6:00      2      6:00            1     M2123        5   \n",
       "6  134.95  ...    22:22      2     15:11            1     M2144        1   \n",
       "\n",
       "  est_urb est_marg       pondef  est_var  \n",
       "0       3        1  3470.002176      215  \n",
       "1       1        1   417.946672      101  \n",
       "2       3        1   472.980811       15  \n",
       "4       3        1  7622.066564      215  \n",
       "6       1        1  1879.750532      211  \n",
       "\n",
       "[5 rows x 26 columns]"
      ]
     },
     "execution_count": 17,
     "metadata": {},
     "output_type": "execute_result"
    }
   ],
   "source": [
    "mujeres= df[just_mujeres] \n",
    "mujeres.head()"
   ]
  },
  {
   "cell_type": "code",
   "execution_count": 18,
   "id": "4a965135",
   "metadata": {},
   "outputs": [
    {
     "data": {
      "text/html": [
       "<table class=\"simpletable\">\n",
       "<caption>OLS Regression Results</caption>\n",
       "<tr>\n",
       "  <th>Dep. Variable:</th>         <td>peso_m</td>      <th>  R-squared:         </th> <td>   0.583</td> \n",
       "</tr>\n",
       "<tr>\n",
       "  <th>Model:</th>                   <td>OLS</td>       <th>  Adj. R-squared:    </th> <td>   0.583</td> \n",
       "</tr>\n",
       "<tr>\n",
       "  <th>Method:</th>             <td>Least Squares</td>  <th>  F-statistic:       </th> <td>1.381e+04</td>\n",
       "</tr>\n",
       "<tr>\n",
       "  <th>Date:</th>             <td>Tue, 07 Sep 2021</td> <th>  Prob (F-statistic):</th>  <td>  0.00</td>  \n",
       "</tr>\n",
       "<tr>\n",
       "  <th>Time:</th>                 <td>20:32:56</td>     <th>  Log-Likelihood:    </th> <td> -37386.</td> \n",
       "</tr>\n",
       "<tr>\n",
       "  <th>No. Observations:</th>      <td>  9878</td>      <th>  AIC:               </th> <td>7.478e+04</td>\n",
       "</tr>\n",
       "<tr>\n",
       "  <th>Df Residuals:</th>          <td>  9876</td>      <th>  BIC:               </th> <td>7.479e+04</td>\n",
       "</tr>\n",
       "<tr>\n",
       "  <th>Df Model:</th>              <td>     1</td>      <th>                     </th>     <td> </td>    \n",
       "</tr>\n",
       "<tr>\n",
       "  <th>Covariance Type:</th>      <td>nonrobust</td>    <th>                     </th>     <td> </td>    \n",
       "</tr>\n",
       "</table>\n",
       "<table class=\"simpletable\">\n",
       "<tr>\n",
       "      <td></td>         <th>coef</th>     <th>std err</th>      <th>t</th>      <th>P>|t|</th>  <th>[0.025</th>    <th>0.975]</th>  \n",
       "</tr>\n",
       "<tr>\n",
       "  <th>Intercept</th> <td>   -2.1852</td> <td>    0.562</td> <td>   -3.887</td> <td> 0.000</td> <td>   -3.287</td> <td>   -1.083</td>\n",
       "</tr>\n",
       "<tr>\n",
       "  <th>cintura_m</th> <td>    0.7368</td> <td>    0.006</td> <td>  117.510</td> <td> 0.000</td> <td>    0.724</td> <td>    0.749</td>\n",
       "</tr>\n",
       "</table>\n",
       "<table class=\"simpletable\">\n",
       "<tr>\n",
       "  <th>Omnibus:</th>       <td>6504.425</td> <th>  Durbin-Watson:     </th>  <td>   1.913</td> \n",
       "</tr>\n",
       "<tr>\n",
       "  <th>Prob(Omnibus):</th>  <td> 0.000</td>  <th>  Jarque-Bera (JB):  </th> <td>441820.169</td>\n",
       "</tr>\n",
       "<tr>\n",
       "  <th>Skew:</th>           <td>-2.437</td>  <th>  Prob(JB):          </th>  <td>    0.00</td> \n",
       "</tr>\n",
       "<tr>\n",
       "  <th>Kurtosis:</th>       <td>35.399</td>  <th>  Cond. No.          </th>  <td>    470.</td> \n",
       "</tr>\n",
       "</table><br/><br/>Warnings:<br/>[1] Standard Errors assume that the covariance matrix of the errors is correctly specified."
      ],
      "text/plain": [
       "<class 'statsmodels.iolib.summary.Summary'>\n",
       "\"\"\"\n",
       "                            OLS Regression Results                            \n",
       "==============================================================================\n",
       "Dep. Variable:                 peso_m   R-squared:                       0.583\n",
       "Model:                            OLS   Adj. R-squared:                  0.583\n",
       "Method:                 Least Squares   F-statistic:                 1.381e+04\n",
       "Date:                Tue, 07 Sep 2021   Prob (F-statistic):               0.00\n",
       "Time:                        20:32:56   Log-Likelihood:                -37386.\n",
       "No. Observations:                9878   AIC:                         7.478e+04\n",
       "Df Residuals:                    9876   BIC:                         7.479e+04\n",
       "Df Model:                           1                                         \n",
       "Covariance Type:            nonrobust                                         \n",
       "==============================================================================\n",
       "                 coef    std err          t      P>|t|      [0.025      0.975]\n",
       "------------------------------------------------------------------------------\n",
       "Intercept     -2.1852      0.562     -3.887      0.000      -3.287      -1.083\n",
       "cintura_m      0.7368      0.006    117.510      0.000       0.724       0.749\n",
       "==============================================================================\n",
       "Omnibus:                     6504.425   Durbin-Watson:                   1.913\n",
       "Prob(Omnibus):                  0.000   Jarque-Bera (JB):           441820.169\n",
       "Skew:                          -2.437   Prob(JB):                         0.00\n",
       "Kurtosis:                      35.399   Cond. No.                         470.\n",
       "==============================================================================\n",
       "\n",
       "Warnings:\n",
       "[1] Standard Errors assume that the covariance matrix of the errors is correctly specified.\n",
       "\"\"\""
      ]
     },
     "execution_count": 18,
     "metadata": {},
     "output_type": "execute_result"
    }
   ],
   "source": [
    "peso_m = mujeres['peso']\n",
    "cintura_m= mujeres['cintura']\n",
    "model_m= sm.OLS.from_formula('peso_m~cintura_m', #peso= b0+cintura*b1\n",
    "                             data=just_mujeres)\n",
    "result=model_m.fit()\n",
    "result.summary()"
   ]
  },
  {
   "cell_type": "code",
   "execution_count": 19,
   "id": "d6d254fa",
   "metadata": {},
   "outputs": [
    {
     "data": {
      "image/png": "[encoded data removed]",
      "text/plain": [
       "<Figure size 360x360 with 1 Axes>"
      ]
     },
     "metadata": {
      "needs_background": "light"
     },
     "output_type": "display_data"
    }
   ],
   "source": [
    "rv_m= sns.lmplot(\n",
    "    x='cintura',\n",
    "    y= 'peso',\n",
    "    fit_reg= True, \n",
    "    data = mujeres   \n",
    ") \n",
    "\n",
    "plt.show()"
   ]
  },
  {
   "cell_type": "code",
   "execution_count": 20,
   "id": "3614fdb8",
   "metadata": {},
   "outputs": [
    {
     "data": {
      "text/plain": [
       "0        70.535803\n",
       "1        44.969265\n",
       "2        47.621701\n",
       "4        81.071869\n",
       "6        40.032786\n",
       "           ...    \n",
       "18633    67.146579\n",
       "18635    66.336112\n",
       "18636    73.740830\n",
       "18638    71.456788\n",
       "18639    77.498448\n",
       "Length: 9878, dtype: float64"
      ]
     },
     "execution_count": 20,
     "metadata": {},
     "output_type": "execute_result"
    }
   ],
   "source": [
    "ft_m= result.fittedvalues\n",
    "ft_m"
   ]
  },
  {
   "cell_type": "code",
   "execution_count": 21,
   "id": "eef926a6",
   "metadata": {},
   "outputs": [
    {
     "data": {
      "text/plain": [
       "0         3.164197\n",
       "1        -9.319265\n",
       "2         7.178299\n",
       "4        16.878131\n",
       "6        -8.082786\n",
       "           ...    \n",
       "18633     8.253421\n",
       "18635     9.463888\n",
       "18636    -4.340830\n",
       "18638   -12.406788\n",
       "18639     2.501552\n",
       "Length: 9878, dtype: float64"
      ]
     },
     "execution_count": 21,
     "metadata": {},
     "output_type": "execute_result"
    }
   ],
   "source": [
    "residuals_m= result.resid\n",
    "residuals_m"
   ]
  },
  {
   "cell_type": "code",
   "execution_count": 22,
   "id": "0c1c3537",
   "metadata": {},
   "outputs": [
    {
     "data": {
      "image/png": "[encoded data removed]",
      "text/plain": [
       "<Figure size 432x288 with 1 Axes>"
      ]
     },
     "metadata": {
      "needs_background": "light"
     },
     "output_type": "display_data"
    }
   ],
   "source": [
    "fv_m=sns.scatterplot(x=ft_m,\n",
    "                   y= residuals_m)   \n",
    "fv_m.set_xlabel('Fitted values',\n",
    "             size=15)\n",
    "\n",
    "fv_m.set_ylabel('Residuales',\n",
    "             size=15)\n",
    "fv_m.set_title('Scatterplot of Fitted Values vs Residuales para mujeres',\n",
    "            size=15)\n",
    "plt.show()"
   ]
  },
  {
   "cell_type": "code",
   "execution_count": null,
   "id": "ad8a50da",
   "metadata": {},
   "outputs": [],
   "source": []
  }
 ],
 "metadata": {
  "kernelspec": {
   "display_name": "Python 3",
   "language": "python",
   "name": "python3"
  },
  "language_info": {
   "codemirror_mode": {
    "name": "ipython",
    "version": 3
   },
   "file_extension": ".py",
   "mimetype": "text/x-python",
   "name": "python",
   "nbconvert_exporter": "python",
   "pygments_lexer": "ipython3",
   "version": "3.7.10"
  }
 },
 "nbformat": 4,
 "nbformat_minor": 5
}
