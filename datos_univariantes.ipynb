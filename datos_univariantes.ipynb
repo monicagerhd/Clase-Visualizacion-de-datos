{
  "nbformat": 4,
  "nbformat_minor": 0,
  "metadata": {
    "kernelspec": {
      "display_name": "Python 3",
      "language": "python",
      "name": "python3"
    },
    "language_info": {
      "codemirror_mode": {
        "name": "ipython",
        "version": 3
      },
      "file_extension": ".py",
      "mimetype": "text/x-python",
      "name": "python",
      "nbconvert_exporter": "python",
      "pygments_lexer": "ipython3",
      "version": "3.7.6"
    },
    "colab": {
      "name": "datos_univariantes.ipynb",
      "provenance": [],
      "collapsed_sections": []
    }
  },
  "cells": [
    {
      "cell_type": "markdown",
      "metadata": {
        "id": "3k6KAGtNb9Gn"
      },
      "source": [
        "# Código para practicar estadística descriptiva e interpretación de visualizaciones\n",
        "\n",
        "En cada celda después de las preguntas escribirás el código para responder el quiz sobre estadística descriptiva e interpretación de visualizaciones.\n"
      ]
    },
    {
      "cell_type": "code",
      "metadata": {
        "id": "HHcxfmkcb9G-",
        "colab": {
          "base_uri": "https://localhost:8080/"
        },
        "outputId": "6d105b57-b862-4235-80d9-f484857cd2c8"
      },
      "source": [
        "%matplotlib inline\n",
        "import matplotlib.pyplot as plt\n",
        "import seaborn as sns\n",
        "import pandas as pd\n",
        "import statsmodels.api as sm\n",
        "import numpy as np\n",
        "import io\n",
        "from google.colab import files\n",
        "\n",
        "\n"
      ],
      "execution_count": null,
      "outputs": [
        {
          "output_type": "stream",
          "text": [
            "Drive already mounted at /content/drive; to attempt to forcibly remount, call drive.mount(\"/content/drive\", force_remount=True).\n"
          ],
          "name": "stdout"
        }
      ]
    },
    {
      "cell_type": "code",
      "metadata": {
        "id": "pyIvFFkPWd9H"
      },
      "source": [
        "## Primero, vas a importar el fichero winequality-red.csv\n",
        "#ubicacion = \"winequality-red.csv\"\n",
        "#df = pd.read_csv(ubicacion)"
      ],
      "execution_count": null,
      "outputs": []
    },
    {
      "cell_type": "code",
      "metadata": {
        "id": "sEf0gtByWoVA"
      },
      "source": [
        "#data_to_load = files.upload()\n",
        "from google.colab import drive\n",
        "drive.mount('/content/drive')"
      ],
      "execution_count": null,
      "outputs": []
    },
    {
      "cell_type": "code",
      "metadata": {
        "id": "dFaV3u5Z9bsz"
      },
      "source": [
        "path = '/content/drive/MyDrive/Colab Notebooks/winequality-red.csv'\n",
        "df = pd.read_csv(path) # load the winequality-red.csv dataset"
      ],
      "execution_count": null,
      "outputs": []
    },
    {
      "cell_type": "markdown",
      "metadata": {
        "id": "lKTZkStYb9HD"
      },
      "source": [
        "## Pregunta 1\n",
        "\n",
        "Usa la función head() para obtener los primeros renglones del conjunto de datos"
      ]
    },
    {
      "cell_type": "code",
      "metadata": {
        "id": "j9azc3h6b9HO"
      },
      "source": [
        "## Escribe tu código aquí\n",
        "\n"
      ],
      "execution_count": null,
      "outputs": []
    },
    {
      "cell_type": "markdown",
      "metadata": {
        "id": "yK4Yu_uPb9HP"
      },
      "source": [
        "## Pregunta 2\n",
        "\n",
        "Usa la función head() para obtener los primeros 3 renglones del conjunto de datos"
      ]
    },
    {
      "cell_type": "code",
      "metadata": {
        "id": "-xzgK2BIb9HR"
      },
      "source": [
        "## Escribe tu código aquí\n",
        "\n"
      ],
      "execution_count": null,
      "outputs": []
    },
    {
      "cell_type": "code",
      "metadata": {
        "id": "oG2K3P4gb9HU"
      },
      "source": [
        "## Vamos a extraer los datos de la columna indicada como 'densidad'\n",
        "dens = df['density']"
      ],
      "execution_count": null,
      "outputs": []
    },
    {
      "cell_type": "markdown",
      "metadata": {
        "id": "oYXJDVJEb9HV"
      },
      "source": [
        "## Pregunta 3\n",
        "\n",
        "Usa las funciones de la biblioteca Pandas para calcular la media, mediana, el valor mínimo, el valor máximo, la desviación estándar y la varianza."
      ]
    },
    {
      "cell_type": "code",
      "metadata": {
        "id": "_ViWrZ3wb9HW"
      },
      "source": [
        "## Escribe tu código aquí\n",
        "\n",
        "\n"
      ],
      "execution_count": null,
      "outputs": []
    },
    {
      "cell_type": "markdown",
      "metadata": {
        "id": "0vOYpEMgb9HZ"
      },
      "source": [
        "## Pregunta 4\n",
        "\n",
        "Ahora calcula el rango intercuartilico."
      ]
    },
    {
      "cell_type": "code",
      "metadata": {
        "id": "oJLCXJNBb9Ha"
      },
      "source": [
        "## Escribe tu código aquí\n",
        "\n",
        "\n"
      ],
      "execution_count": null,
      "outputs": []
    },
    {
      "cell_type": "markdown",
      "metadata": {
        "id": "zPiMxo9Ab9Hc"
      },
      "source": [
        "## Pregunta 5\n",
        "\n",
        "Utiliza el método Series.describe() para corroborar tus respuestas a las preguntas 3 y 4."
      ]
    },
    {
      "cell_type": "code",
      "metadata": {
        "id": "gItdPkGLb9Hd"
      },
      "source": [
        "## Escribe tu código aquí\n",
        "\n",
        "\n"
      ],
      "execution_count": null,
      "outputs": []
    },
    {
      "cell_type": "markdown",
      "metadata": {
        "id": "EeSxRs96b9He"
      },
      "source": [
        "## Pregunta 6\n",
        "\n",
        "Genera un histograma para la variable 'densidad'."
      ]
    },
    {
      "cell_type": "code",
      "metadata": {
        "id": "qIb0jJXCb9He"
      },
      "source": [
        "## Escribe tu código aquí\n",
        "\n"
      ],
      "execution_count": null,
      "outputs": []
    },
    {
      "cell_type": "markdown",
      "metadata": {
        "id": "GRbBINlqb9Hf"
      },
      "source": [
        "## Pregunta 7\n",
        "\n",
        "Genera un histograma para la variable 'sulphates'."
      ]
    },
    {
      "cell_type": "code",
      "metadata": {
        "id": "wmb3RjR7b9Hh"
      },
      "source": [
        "## Escribe tu código aquí\n",
        "\n"
      ],
      "execution_count": null,
      "outputs": []
    },
    {
      "cell_type": "markdown",
      "metadata": {
        "id": "MbunpBpmb9Hj"
      },
      "source": [
        "## Pregunta 8\n",
        "\n",
        "Genera un histograma para la variable 'fixed_acidity'."
      ]
    },
    {
      "cell_type": "code",
      "metadata": {
        "id": "IO0zGk0Tb9Hk"
      },
      "source": [
        "## Escribe tu código aquí\n",
        "\n"
      ],
      "execution_count": null,
      "outputs": []
    },
    {
      "cell_type": "markdown",
      "metadata": {
        "id": "RAutIWhYb9Hk"
      },
      "source": [
        "## Pregunta 9\n",
        "\n",
        "Genera un diagrama de cajas y bigotes para la variable 'density'."
      ]
    },
    {
      "cell_type": "code",
      "metadata": {
        "id": "-zm5fHPbb9Hk"
      },
      "source": [
        "## Escribe tu código aquí\n",
        "\n"
      ],
      "execution_count": null,
      "outputs": []
    },
    {
      "cell_type": "markdown",
      "metadata": {
        "id": "TQJxlovFb9Hn"
      },
      "source": [
        "## Pregunta 10\n",
        "\n",
        "Genera un diagrama de cajas y bigotes para la variable 'sulfur'."
      ]
    },
    {
      "cell_type": "code",
      "metadata": {
        "id": "Cfkw6pPlb9Ho"
      },
      "source": [
        "## Escribe tu código aquí\n",
        "\n"
      ],
      "execution_count": null,
      "outputs": []
    }
  ]
}